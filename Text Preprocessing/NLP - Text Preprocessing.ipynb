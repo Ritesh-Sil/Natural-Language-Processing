{
 "cells": [
  {
   "cell_type": "markdown",
   "id": "e1b3a665",
   "metadata": {},
   "source": [
    "Ref : https://stackoverflow.com/questions/15138614/how-can-i-read-the-contents-of-an-url-with-python\n",
    "\n",
    "Ref : https://stackoverflow.com/questions/3969726/attributeerror-module-object-has-no-attribute-urlopen"
   ]
  },
  {
   "cell_type": "code",
   "execution_count": 39,
   "id": "111e1e8a",
   "metadata": {},
   "outputs": [
    {
     "name": "stdout",
     "output_type": "stream",
     "text": [
      "b'{\"genres\":[{\"id\":28,\"name\":\"Action\"},{\"id\":12,\"name\":\"Adventure\"},{\"id\":16,\"name\":\"Animation\"},{\"id\":35,\"name\":\"Comedy\"},{\"id\":80,\"name\":\"Crime\"},{\"id\":99,\"name\":\"Documentary\"},{\"id\":18,\"name\":\"Drama\"},{\"id\":10751,\"name\":\"Family\"},{\"id\":14,\"name\":\"Fantasy\"},{\"id\":36,\"name\":\"History\"},{\"id\":27,\"name\":\"Horror\"},{\"id\":10402,\"name\":\"Music\"},{\"id\":9648,\"name\":\"Mystery\"},{\"id\":10749,\"name\":\"Romance\"},{\"id\":878,\"name\":\"Science Fiction\"},{\"id\":10770,\"name\":\"TV Movie\"},{\"id\":53,\"name\":\"Thriller\"},{\"id\":10752,\"name\":\"War\"},{\"id\":37,\"name\":\"Western\"}]}'\n"
     ]
    }
   ],
   "source": [
    "import urllib.request\n",
    "\n",
    "link = \"https://api.themoviedb.org/3/genre/movie/list?api_key=8265bd1679663a7ea12ac168da84d2e8&language=en-US\"\n",
    "f = urllib.request.urlopen(link)\n",
    "myGenre = f.read()\n",
    "print(myGenre)"
   ]
  },
  {
   "cell_type": "code",
   "execution_count": 6,
   "id": "f34e3ecc",
   "metadata": {},
   "outputs": [
    {
     "data": {
      "text/plain": [
       "bytes"
      ]
     },
     "execution_count": 6,
     "metadata": {},
     "output_type": "execute_result"
    }
   ],
   "source": [
    "type(myfile)"
   ]
  },
  {
   "cell_type": "markdown",
   "id": "4dd37a8a",
   "metadata": {},
   "source": [
    "# Convert byte format to JSON format\n",
    "https://stackoverflow.com/questions/40059654/python-convert-a-bytes-array-into-json-format"
   ]
  },
  {
   "cell_type": "code",
   "execution_count": 41,
   "id": "9cea417e",
   "metadata": {
    "scrolled": true
   },
   "outputs": [
    {
     "data": {
      "text/plain": [
       "[{'id': 28, 'name': 'Action'},\n",
       " {'id': 12, 'name': 'Adventure'},\n",
       " {'id': 16, 'name': 'Animation'},\n",
       " {'id': 35, 'name': 'Comedy'},\n",
       " {'id': 80, 'name': 'Crime'},\n",
       " {'id': 99, 'name': 'Documentary'},\n",
       " {'id': 18, 'name': 'Drama'},\n",
       " {'id': 10751, 'name': 'Family'},\n",
       " {'id': 14, 'name': 'Fantasy'},\n",
       " {'id': 36, 'name': 'History'},\n",
       " {'id': 27, 'name': 'Horror'},\n",
       " {'id': 10402, 'name': 'Music'},\n",
       " {'id': 9648, 'name': 'Mystery'},\n",
       " {'id': 10749, 'name': 'Romance'},\n",
       " {'id': 878, 'name': 'Science Fiction'},\n",
       " {'id': 10770, 'name': 'TV Movie'},\n",
       " {'id': 53, 'name': 'Thriller'},\n",
       " {'id': 10752, 'name': 'War'},\n",
       " {'id': 37, 'name': 'Western'}]"
      ]
     },
     "execution_count": 41,
     "metadata": {},
     "output_type": "execute_result"
    }
   ],
   "source": [
    "import json\n",
    "json_obj_genre = json.loads(myGenre)\n",
    "json_obj_genre['genres']"
   ]
  },
  {
   "cell_type": "markdown",
   "id": "c7e97aca",
   "metadata": {},
   "source": [
    "# Creating Genre dictionary"
   ]
  },
  {
   "cell_type": "code",
   "execution_count": 48,
   "id": "1ce51013",
   "metadata": {},
   "outputs": [],
   "source": [
    "genre = {}\n",
    "for i in json_obj_genre['genres']:\n",
    "    genre[i['id']]= i['name']  "
   ]
  },
  {
   "cell_type": "code",
   "execution_count": 49,
   "id": "adb2d28b",
   "metadata": {},
   "outputs": [
    {
     "data": {
      "text/plain": [
       "{28: 'Action',\n",
       " 12: 'Adventure',\n",
       " 16: 'Animation',\n",
       " 35: 'Comedy',\n",
       " 80: 'Crime',\n",
       " 99: 'Documentary',\n",
       " 18: 'Drama',\n",
       " 10751: 'Family',\n",
       " 14: 'Fantasy',\n",
       " 36: 'History',\n",
       " 27: 'Horror',\n",
       " 10402: 'Music',\n",
       " 9648: 'Mystery',\n",
       " 10749: 'Romance',\n",
       " 878: 'Science Fiction',\n",
       " 10770: 'TV Movie',\n",
       " 53: 'Thriller',\n",
       " 10752: 'War',\n",
       " 37: 'Western'}"
      ]
     },
     "execution_count": 49,
     "metadata": {},
     "output_type": "execute_result"
    }
   ],
   "source": [
    "genre"
   ]
  },
  {
   "cell_type": "markdown",
   "id": "6bb19e77",
   "metadata": {},
   "source": [
    "# Reading the movie data set"
   ]
  },
  {
   "cell_type": "code",
   "execution_count": 51,
   "id": "0642ddf6",
   "metadata": {},
   "outputs": [
    {
     "data": {
      "text/plain": [
       "dict_keys(['page', 'results', 'total_pages', 'total_results'])"
      ]
     },
     "execution_count": 51,
     "metadata": {},
     "output_type": "execute_result"
    }
   ],
   "source": [
    "link = \"https://api.themoviedb.org/3/movie/top_rated?api_key=8265bd1679663a7ea12ac168da84d2e8&language=en-US&page=471\"\n",
    "f = urllib.request.urlopen(link)\n",
    "myfile = f.read()\n",
    "json_obj = json.loads(myfile)\n",
    "json_obj.keys()\n",
    "#json_obj['page']"
   ]
  },
  {
   "cell_type": "code",
   "execution_count": 52,
   "id": "ab6577d2",
   "metadata": {},
   "outputs": [
    {
     "data": {
      "text/plain": [
       "0                     [27]\n",
       "1           [9648, 53, 27]\n",
       "2                 [27, 53]\n",
       "3              [35, 10751]\n",
       "4                     [27]\n",
       "5           [18, 53, 9648]\n",
       "6             [80, 18, 53]\n",
       "7                     [53]\n",
       "8                     [27]\n",
       "9                 [53, 27]\n",
       "10           [28, 53, 878]\n",
       "11                    [35]\n",
       "12               [27, 878]\n",
       "13           [35, 18, 878]\n",
       "14                [27, 53]\n",
       "15              [53, 9648]\n",
       "16                [27, 53]\n",
       "17    [35, 878, 12, 10751]\n",
       "18         [35, 10749, 18]\n",
       "19            [27, 53, 35]\n",
       "Name: genre_ids, dtype: object"
      ]
     },
     "execution_count": 52,
     "metadata": {},
     "output_type": "execute_result"
    }
   ],
   "source": [
    "pd.DataFrame(json_obj['results'])['genre_ids']"
   ]
  },
  {
   "cell_type": "code",
   "execution_count": 53,
   "id": "7652923f",
   "metadata": {
    "scrolled": true
   },
   "outputs": [
    {
     "data": {
      "text/html": [
       "<div>\n",
       "<style scoped>\n",
       "    .dataframe tbody tr th:only-of-type {\n",
       "        vertical-align: middle;\n",
       "    }\n",
       "\n",
       "    .dataframe tbody tr th {\n",
       "        vertical-align: top;\n",
       "    }\n",
       "\n",
       "    .dataframe thead th {\n",
       "        text-align: right;\n",
       "    }\n",
       "</style>\n",
       "<table border=\"1\" class=\"dataframe\">\n",
       "  <thead>\n",
       "    <tr style=\"text-align: right;\">\n",
       "      <th></th>\n",
       "      <th>original_title</th>\n",
       "      <th>overview</th>\n",
       "      <th>genre_ids</th>\n",
       "    </tr>\n",
       "  </thead>\n",
       "  <tbody>\n",
       "    <tr>\n",
       "      <th>0</th>\n",
       "      <td>Pet Sematary II</td>\n",
       "      <td>The \"sematary\" is up to its old zombie-raising...</td>\n",
       "      <td>[27]</td>\n",
       "    </tr>\n",
       "    <tr>\n",
       "      <th>1</th>\n",
       "      <td>Wrecked</td>\n",
       "      <td>A man awakens in a car wreck at the bottom of ...</td>\n",
       "      <td>[9648, 53, 27]</td>\n",
       "    </tr>\n",
       "    <tr>\n",
       "      <th>2</th>\n",
       "      <td>Deadgirl</td>\n",
       "      <td>When high school misfits Rickie and JT decide ...</td>\n",
       "      <td>[27, 53]</td>\n",
       "    </tr>\n",
       "    <tr>\n",
       "      <th>3</th>\n",
       "      <td>Home Alone 3</td>\n",
       "      <td>9-year-old Alex Pruitt is home alone with the ...</td>\n",
       "      <td>[35, 10751]</td>\n",
       "    </tr>\n",
       "    <tr>\n",
       "      <th>4</th>\n",
       "      <td>Slumber</td>\n",
       "      <td>A sleep doctor tries to protect a family from ...</td>\n",
       "      <td>[27]</td>\n",
       "    </tr>\n",
       "    <tr>\n",
       "      <th>5</th>\n",
       "      <td>Strangerland</td>\n",
       "      <td>Newly arrived to a remote desert town, Catheri...</td>\n",
       "      <td>[18, 53, 9648]</td>\n",
       "    </tr>\n",
       "    <tr>\n",
       "      <th>6</th>\n",
       "      <td>Windfall</td>\n",
       "      <td>A man breaks into a tech billionaire's empty v...</td>\n",
       "      <td>[80, 18, 53]</td>\n",
       "    </tr>\n",
       "    <tr>\n",
       "      <th>7</th>\n",
       "      <td>10 x 10</td>\n",
       "      <td>Lewis is an outwardly ordinary guy, but in rea...</td>\n",
       "      <td>[53]</td>\n",
       "    </tr>\n",
       "    <tr>\n",
       "      <th>8</th>\n",
       "      <td>Bodom</td>\n",
       "      <td>Every camper’s worst nightmare came true at La...</td>\n",
       "      <td>[27]</td>\n",
       "    </tr>\n",
       "    <tr>\n",
       "      <th>9</th>\n",
       "      <td>Demonic</td>\n",
       "      <td>A police officer and a psychologist investigat...</td>\n",
       "      <td>[53, 27]</td>\n",
       "    </tr>\n",
       "    <tr>\n",
       "      <th>10</th>\n",
       "      <td>Arena</td>\n",
       "      <td>David Lord finds himself forced into the savag...</td>\n",
       "      <td>[28, 53, 878]</td>\n",
       "    </tr>\n",
       "    <tr>\n",
       "      <th>11</th>\n",
       "      <td>Boat Trip</td>\n",
       "      <td>Two guys whose love lives are a wreck look for...</td>\n",
       "      <td>[35]</td>\n",
       "    </tr>\n",
       "    <tr>\n",
       "      <th>12</th>\n",
       "      <td>Hellraiser: Bloodline</td>\n",
       "      <td>In the 22nd century, a scientist attempts to r...</td>\n",
       "      <td>[27, 878]</td>\n",
       "    </tr>\n",
       "    <tr>\n",
       "      <th>13</th>\n",
       "      <td>Downsizing</td>\n",
       "      <td>A kindly occupational therapist undergoes a ne...</td>\n",
       "      <td>[35, 18, 878]</td>\n",
       "    </tr>\n",
       "    <tr>\n",
       "      <th>14</th>\n",
       "      <td>Girl on the Third Floor</td>\n",
       "      <td>Don Koch tries to renovate a rundown mansion w...</td>\n",
       "      <td>[27, 53]</td>\n",
       "    </tr>\n",
       "    <tr>\n",
       "      <th>15</th>\n",
       "      <td>Blackway</td>\n",
       "      <td>A young woman newly returned to her hometown b...</td>\n",
       "      <td>[53, 9648]</td>\n",
       "    </tr>\n",
       "    <tr>\n",
       "      <th>16</th>\n",
       "      <td>Paranormal Activity: The Ghost Dimension</td>\n",
       "      <td>Using a special camera that can see spirits, a...</td>\n",
       "      <td>[27, 53]</td>\n",
       "    </tr>\n",
       "    <tr>\n",
       "      <th>17</th>\n",
       "      <td>Meet Dave</td>\n",
       "      <td>A crew of miniature aliens operate a spaceship...</td>\n",
       "      <td>[35, 878, 12, 10751]</td>\n",
       "    </tr>\n",
       "    <tr>\n",
       "      <th>18</th>\n",
       "      <td>Scusa ma ti voglio sposare</td>\n",
       "      <td>Second part of the film \"Sorry if I love you\"....</td>\n",
       "      <td>[35, 10749, 18]</td>\n",
       "    </tr>\n",
       "    <tr>\n",
       "      <th>19</th>\n",
       "      <td>All Cheerleaders Die</td>\n",
       "      <td>When tragedy rocks Blackfoot High, rebellious ...</td>\n",
       "      <td>[27, 53, 35]</td>\n",
       "    </tr>\n",
       "  </tbody>\n",
       "</table>\n",
       "</div>"
      ],
      "text/plain": [
       "                              original_title  \\\n",
       "0                            Pet Sematary II   \n",
       "1                                    Wrecked   \n",
       "2                                   Deadgirl   \n",
       "3                               Home Alone 3   \n",
       "4                                    Slumber   \n",
       "5                               Strangerland   \n",
       "6                                   Windfall   \n",
       "7                                    10 x 10   \n",
       "8                                      Bodom   \n",
       "9                                    Demonic   \n",
       "10                                     Arena   \n",
       "11                                 Boat Trip   \n",
       "12                     Hellraiser: Bloodline   \n",
       "13                                Downsizing   \n",
       "14                   Girl on the Third Floor   \n",
       "15                                  Blackway   \n",
       "16  Paranormal Activity: The Ghost Dimension   \n",
       "17                                 Meet Dave   \n",
       "18                Scusa ma ti voglio sposare   \n",
       "19                      All Cheerleaders Die   \n",
       "\n",
       "                                             overview             genre_ids  \n",
       "0   The \"sematary\" is up to its old zombie-raising...                  [27]  \n",
       "1   A man awakens in a car wreck at the bottom of ...        [9648, 53, 27]  \n",
       "2   When high school misfits Rickie and JT decide ...              [27, 53]  \n",
       "3   9-year-old Alex Pruitt is home alone with the ...           [35, 10751]  \n",
       "4   A sleep doctor tries to protect a family from ...                  [27]  \n",
       "5   Newly arrived to a remote desert town, Catheri...        [18, 53, 9648]  \n",
       "6   A man breaks into a tech billionaire's empty v...          [80, 18, 53]  \n",
       "7   Lewis is an outwardly ordinary guy, but in rea...                  [53]  \n",
       "8   Every camper’s worst nightmare came true at La...                  [27]  \n",
       "9   A police officer and a psychologist investigat...              [53, 27]  \n",
       "10  David Lord finds himself forced into the savag...         [28, 53, 878]  \n",
       "11  Two guys whose love lives are a wreck look for...                  [35]  \n",
       "12  In the 22nd century, a scientist attempts to r...             [27, 878]  \n",
       "13  A kindly occupational therapist undergoes a ne...         [35, 18, 878]  \n",
       "14  Don Koch tries to renovate a rundown mansion w...              [27, 53]  \n",
       "15  A young woman newly returned to her hometown b...            [53, 9648]  \n",
       "16  Using a special camera that can see spirits, a...              [27, 53]  \n",
       "17  A crew of miniature aliens operate a spaceship...  [35, 878, 12, 10751]  \n",
       "18  Second part of the film \"Sorry if I love you\"....       [35, 10749, 18]  \n",
       "19  When tragedy rocks Blackfoot High, rebellious ...          [27, 53, 35]  "
      ]
     },
     "execution_count": 53,
     "metadata": {},
     "output_type": "execute_result"
    }
   ],
   "source": [
    "pd.DataFrame(json_obj['results'])[['original_title','overview','genre_ids']]"
   ]
  },
  {
   "cell_type": "code",
   "execution_count": null,
   "id": "ba0622ad",
   "metadata": {},
   "outputs": [],
   "source": []
  },
  {
   "cell_type": "code",
   "execution_count": 58,
   "id": "9ecaa32b",
   "metadata": {},
   "outputs": [
    {
     "name": "stdout",
     "output_type": "stream",
     "text": [
      "[27]\n",
      "[9648, 53, 27]\n",
      "[27, 53]\n",
      "[35, 10751]\n",
      "[27]\n",
      "[18, 53, 9648]\n",
      "[80, 18, 53]\n",
      "[53]\n",
      "[27]\n",
      "[53, 27]\n",
      "[28, 53, 878]\n",
      "[35]\n",
      "[27, 878]\n",
      "[35, 18, 878]\n",
      "[27, 53]\n",
      "[53, 9648]\n",
      "[27, 53]\n",
      "[35, 878, 12, 10751]\n",
      "[35, 10749, 18]\n",
      "[27, 53, 35]\n"
     ]
    }
   ],
   "source": [
    "for i in json_obj['results']:\n",
    "    print(i['genre_ids'])\n",
    "    for j in i['genre_ids']:\n",
    "        for k in genre.keys():\n",
    "            if i['genre_ids'][j] == genre"
   ]
  },
  {
   "cell_type": "code",
   "execution_count": null,
   "id": "ab3df88a",
   "metadata": {},
   "outputs": [],
   "source": []
  }
 ],
 "metadata": {
  "kernelspec": {
   "display_name": "Python 3 (ipykernel)",
   "language": "python",
   "name": "python3"
  },
  "language_info": {
   "codemirror_mode": {
    "name": "ipython",
    "version": 3
   },
   "file_extension": ".py",
   "mimetype": "text/x-python",
   "name": "python",
   "nbconvert_exporter": "python",
   "pygments_lexer": "ipython3",
   "version": "3.9.7"
  }
 },
 "nbformat": 4,
 "nbformat_minor": 5
}

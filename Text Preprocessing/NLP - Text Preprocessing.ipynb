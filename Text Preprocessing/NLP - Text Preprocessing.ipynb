{
 "cells": [
  {
   "cell_type": "markdown",
   "id": "1de803ca",
   "metadata": {},
   "source": [
    "Ref : https://stackoverflow.com/questions/15138614/how-can-i-read-the-contents-of-an-url-with-python\n",
    "\n",
    "Ref : https://stackoverflow.com/questions/3969726/attributeerror-module-object-has-no-attribute-urlopen"
   ]
  },
  {
   "cell_type": "code",
   "execution_count": 39,
   "id": "381cf738",
   "metadata": {},
   "outputs": [
    {
     "name": "stdout",
     "output_type": "stream",
     "text": [
      "b'{\"genres\":[{\"id\":28,\"name\":\"Action\"},{\"id\":12,\"name\":\"Adventure\"},{\"id\":16,\"name\":\"Animation\"},{\"id\":35,\"name\":\"Comedy\"},{\"id\":80,\"name\":\"Crime\"},{\"id\":99,\"name\":\"Documentary\"},{\"id\":18,\"name\":\"Drama\"},{\"id\":10751,\"name\":\"Family\"},{\"id\":14,\"name\":\"Fantasy\"},{\"id\":36,\"name\":\"History\"},{\"id\":27,\"name\":\"Horror\"},{\"id\":10402,\"name\":\"Music\"},{\"id\":9648,\"name\":\"Mystery\"},{\"id\":10749,\"name\":\"Romance\"},{\"id\":878,\"name\":\"Science Fiction\"},{\"id\":10770,\"name\":\"TV Movie\"},{\"id\":53,\"name\":\"Thriller\"},{\"id\":10752,\"name\":\"War\"},{\"id\":37,\"name\":\"Western\"}]}'\n"
     ]
    }
   ],
   "source": [
    "import urllib.request\n",
    "\n",
    "link = \"https://api.themoviedb.org/3/genre/movie/list?api_key=8265bd1679663a7ea12ac168da84d2e8&language=en-US\"\n",
    "f = urllib.request.urlopen(link)\n",
    "myGenre = f.read()\n",
    "print(myGenre)"
   ]
  },
  {
   "cell_type": "code",
   "execution_count": 6,
   "id": "0ecb4c47",
   "metadata": {},
   "outputs": [
    {
     "data": {
      "text/plain": [
       "bytes"
      ]
     },
     "execution_count": 6,
     "metadata": {},
     "output_type": "execute_result"
    }
   ],
   "source": [
    "type(myfile)"
   ]
  },
  {
   "cell_type": "markdown",
   "id": "3f3fc8d2",
   "metadata": {},
   "source": [
    "# Convert byte format to JSON format\n",
    "https://stackoverflow.com/questions/40059654/python-convert-a-bytes-array-into-json-format"
   ]
  },
  {
   "cell_type": "code",
   "execution_count": 41,
   "id": "2ce7df54",
   "metadata": {
    "scrolled": true
   },
   "outputs": [
    {
     "data": {
      "text/plain": [
       "[{'id': 28, 'name': 'Action'},\n",
       " {'id': 12, 'name': 'Adventure'},\n",
       " {'id': 16, 'name': 'Animation'},\n",
       " {'id': 35, 'name': 'Comedy'},\n",
       " {'id': 80, 'name': 'Crime'},\n",
       " {'id': 99, 'name': 'Documentary'},\n",
       " {'id': 18, 'name': 'Drama'},\n",
       " {'id': 10751, 'name': 'Family'},\n",
       " {'id': 14, 'name': 'Fantasy'},\n",
       " {'id': 36, 'name': 'History'},\n",
       " {'id': 27, 'name': 'Horror'},\n",
       " {'id': 10402, 'name': 'Music'},\n",
       " {'id': 9648, 'name': 'Mystery'},\n",
       " {'id': 10749, 'name': 'Romance'},\n",
       " {'id': 878, 'name': 'Science Fiction'},\n",
       " {'id': 10770, 'name': 'TV Movie'},\n",
       " {'id': 53, 'name': 'Thriller'},\n",
       " {'id': 10752, 'name': 'War'},\n",
       " {'id': 37, 'name': 'Western'}]"
      ]
     },
     "execution_count": 41,
     "metadata": {},
     "output_type": "execute_result"
    }
   ],
   "source": [
    "import json\n",
    "json_obj_genre = json.loads(myGenre)\n",
    "json_obj_genre['genres']"
   ]
  },
  {
   "cell_type": "markdown",
   "id": "9ae5ada3",
   "metadata": {},
   "source": [
    "# Creating Genre dictionary"
   ]
  },
  {
   "cell_type": "code",
   "execution_count": 48,
   "id": "02cd0485",
   "metadata": {},
   "outputs": [],
   "source": [
    "genre = {}\n",
    "for i in json_obj_genre['genres']:\n",
    "    genre[i['id']]= i['name']  "
   ]
  },
  {
   "cell_type": "code",
   "execution_count": 49,
   "id": "2365e9bb",
   "metadata": {},
   "outputs": [
    {
     "data": {
      "text/plain": [
       "{28: 'Action',\n",
       " 12: 'Adventure',\n",
       " 16: 'Animation',\n",
       " 35: 'Comedy',\n",
       " 80: 'Crime',\n",
       " 99: 'Documentary',\n",
       " 18: 'Drama',\n",
       " 10751: 'Family',\n",
       " 14: 'Fantasy',\n",
       " 36: 'History',\n",
       " 27: 'Horror',\n",
       " 10402: 'Music',\n",
       " 9648: 'Mystery',\n",
       " 10749: 'Romance',\n",
       " 878: 'Science Fiction',\n",
       " 10770: 'TV Movie',\n",
       " 53: 'Thriller',\n",
       " 10752: 'War',\n",
       " 37: 'Western'}"
      ]
     },
     "execution_count": 49,
     "metadata": {},
     "output_type": "execute_result"
    }
   ],
   "source": [
    "genre"
   ]
  },
  {
   "cell_type": "markdown",
   "id": "a6ca084a",
   "metadata": {},
   "source": [
    "# Reading the movie data set"
   ]
  },
  {
   "cell_type": "code",
   "execution_count": 51,
   "id": "1c6e8f45",
   "metadata": {},
   "outputs": [
    {
     "data": {
      "text/plain": [
       "dict_keys(['page', 'results', 'total_pages', 'total_results'])"
      ]
     },
     "execution_count": 51,
     "metadata": {},
     "output_type": "execute_result"
    }
   ],
   "source": [
    "link = \"https://api.themoviedb.org/3/movie/top_rated?api_key=8265bd1679663a7ea12ac168da84d2e8&language=en-US&page=471\"\n",
    "f = urllib.request.urlopen(link)\n",
    "myfile = f.read()\n",
    "json_obj = json.loads(myfile)\n",
    "json_obj.keys()\n",
    "#json_obj['page']"
   ]
  },
  {
   "cell_type": "code",
   "execution_count": 67,
   "id": "34a0d7b4",
   "metadata": {},
   "outputs": [
    {
     "data": {
      "text/plain": [
       "0                                         [Horror]\n",
       "1                      [Mystery, Thriller, Horror]\n",
       "2                               [Horror, Thriller]\n",
       "3                                 [Comedy, Family]\n",
       "4                                         [Horror]\n",
       "5                       [Drama, Thriller, Mystery]\n",
       "6                         [Crime, Drama, Thriller]\n",
       "7                                       [Thriller]\n",
       "8                                         [Horror]\n",
       "9                               [Thriller, Horror]\n",
       "10             [Action, Thriller, Science Fiction]\n",
       "11                                        [Comedy]\n",
       "12                       [Horror, Science Fiction]\n",
       "13                [Comedy, Drama, Science Fiction]\n",
       "14                              [Horror, Thriller]\n",
       "15                             [Thriller, Mystery]\n",
       "16                              [Horror, Thriller]\n",
       "17    [Comedy, Science Fiction, Adventure, Family]\n",
       "18                        [Comedy, Romance, Drama]\n",
       "19                      [Horror, Thriller, Comedy]\n",
       "Name: genre_ids, dtype: object"
      ]
     },
     "execution_count": 67,
     "metadata": {},
     "output_type": "execute_result"
    }
   ],
   "source": [
    "pd.DataFrame(json_obj['results'])['genre_ids']"
   ]
  },
  {
   "cell_type": "markdown",
   "id": "6917f112",
   "metadata": {},
   "source": [
    "# Below snippet of code coverted the genre codes to actual values"
   ]
  },
  {
   "cell_type": "code",
   "execution_count": 66,
   "id": "fbe929c1",
   "metadata": {},
   "outputs": [],
   "source": [
    "for i in json_obj['results']:\n",
    "    #print(i['genre_ids'])\n",
    "    for j in range(len(i['genre_ids'])):\n",
    "        for k in genre.keys():\n",
    "            if i['genre_ids'][j] == k:\n",
    "                i['genre_ids'][j] = genre[k]"
   ]
  },
  {
   "cell_type": "markdown",
   "id": "59575a82",
   "metadata": {},
   "source": [
    "# Expected DataSet"
   ]
  },
  {
   "cell_type": "code",
   "execution_count": 70,
   "id": "04992ba3",
   "metadata": {},
   "outputs": [],
   "source": [
    "df = pd.DataFrame(json_obj['results'])[['original_title','overview','genre_ids']]"
   ]
  },
  {
   "cell_type": "code",
   "execution_count": 71,
   "id": "81da27b8",
   "metadata": {},
   "outputs": [
    {
     "data": {
      "text/html": [
       "<div>\n",
       "<style scoped>\n",
       "    .dataframe tbody tr th:only-of-type {\n",
       "        vertical-align: middle;\n",
       "    }\n",
       "\n",
       "    .dataframe tbody tr th {\n",
       "        vertical-align: top;\n",
       "    }\n",
       "\n",
       "    .dataframe thead th {\n",
       "        text-align: right;\n",
       "    }\n",
       "</style>\n",
       "<table border=\"1\" class=\"dataframe\">\n",
       "  <thead>\n",
       "    <tr style=\"text-align: right;\">\n",
       "      <th></th>\n",
       "      <th>original_title</th>\n",
       "      <th>overview</th>\n",
       "      <th>genre_ids</th>\n",
       "    </tr>\n",
       "  </thead>\n",
       "  <tbody>\n",
       "    <tr>\n",
       "      <th>16</th>\n",
       "      <td>Paranormal Activity: The Ghost Dimension</td>\n",
       "      <td>Using a special camera that can see spirits, a...</td>\n",
       "      <td>[Horror, Thriller]</td>\n",
       "    </tr>\n",
       "    <tr>\n",
       "      <th>10</th>\n",
       "      <td>Arena</td>\n",
       "      <td>David Lord finds himself forced into the savag...</td>\n",
       "      <td>[Action, Thriller, Science Fiction]</td>\n",
       "    </tr>\n",
       "    <tr>\n",
       "      <th>2</th>\n",
       "      <td>Deadgirl</td>\n",
       "      <td>When high school misfits Rickie and JT decide ...</td>\n",
       "      <td>[Horror, Thriller]</td>\n",
       "    </tr>\n",
       "    <tr>\n",
       "      <th>7</th>\n",
       "      <td>10 x 10</td>\n",
       "      <td>Lewis is an outwardly ordinary guy, but in rea...</td>\n",
       "      <td>[Thriller]</td>\n",
       "    </tr>\n",
       "    <tr>\n",
       "      <th>14</th>\n",
       "      <td>Girl on the Third Floor</td>\n",
       "      <td>Don Koch tries to renovate a rundown mansion w...</td>\n",
       "      <td>[Horror, Thriller]</td>\n",
       "    </tr>\n",
       "  </tbody>\n",
       "</table>\n",
       "</div>"
      ],
      "text/plain": [
       "                              original_title  \\\n",
       "16  Paranormal Activity: The Ghost Dimension   \n",
       "10                                     Arena   \n",
       "2                                   Deadgirl   \n",
       "7                                    10 x 10   \n",
       "14                   Girl on the Third Floor   \n",
       "\n",
       "                                             overview  \\\n",
       "16  Using a special camera that can see spirits, a...   \n",
       "10  David Lord finds himself forced into the savag...   \n",
       "2   When high school misfits Rickie and JT decide ...   \n",
       "7   Lewis is an outwardly ordinary guy, but in rea...   \n",
       "14  Don Koch tries to renovate a rundown mansion w...   \n",
       "\n",
       "                              genre_ids  \n",
       "16                   [Horror, Thriller]  \n",
       "10  [Action, Thriller, Science Fiction]  \n",
       "2                    [Horror, Thriller]  \n",
       "7                            [Thriller]  \n",
       "14                   [Horror, Thriller]  "
      ]
     },
     "execution_count": 71,
     "metadata": {},
     "output_type": "execute_result"
    }
   ],
   "source": [
    "df.sample(5)"
   ]
  },
  {
   "cell_type": "markdown",
   "id": "e414d35a",
   "metadata": {},
   "source": [
    "# Renaming The Genre Column"
   ]
  },
  {
   "cell_type": "markdown",
   "id": "9cf72aa6",
   "metadata": {},
   "source": [
    "Ref : https://stackoverflow.com/questions/11346283/renaming-column-names-in-pandas"
   ]
  },
  {
   "cell_type": "code",
   "execution_count": 73,
   "id": "af97ed1e",
   "metadata": {},
   "outputs": [],
   "source": [
    "df.rename({'genre_ids': 'genre'}, axis=1,inplace=True)"
   ]
  },
  {
   "cell_type": "code",
   "execution_count": 74,
   "id": "fc91f93a",
   "metadata": {},
   "outputs": [
    {
     "data": {
      "text/html": [
       "<div>\n",
       "<style scoped>\n",
       "    .dataframe tbody tr th:only-of-type {\n",
       "        vertical-align: middle;\n",
       "    }\n",
       "\n",
       "    .dataframe tbody tr th {\n",
       "        vertical-align: top;\n",
       "    }\n",
       "\n",
       "    .dataframe thead th {\n",
       "        text-align: right;\n",
       "    }\n",
       "</style>\n",
       "<table border=\"1\" class=\"dataframe\">\n",
       "  <thead>\n",
       "    <tr style=\"text-align: right;\">\n",
       "      <th></th>\n",
       "      <th>original_title</th>\n",
       "      <th>overview</th>\n",
       "      <th>genre</th>\n",
       "    </tr>\n",
       "  </thead>\n",
       "  <tbody>\n",
       "    <tr>\n",
       "      <th>3</th>\n",
       "      <td>Home Alone 3</td>\n",
       "      <td>9-year-old Alex Pruitt is home alone with the ...</td>\n",
       "      <td>[Comedy, Family]</td>\n",
       "    </tr>\n",
       "    <tr>\n",
       "      <th>16</th>\n",
       "      <td>Paranormal Activity: The Ghost Dimension</td>\n",
       "      <td>Using a special camera that can see spirits, a...</td>\n",
       "      <td>[Horror, Thriller]</td>\n",
       "    </tr>\n",
       "    <tr>\n",
       "      <th>7</th>\n",
       "      <td>10 x 10</td>\n",
       "      <td>Lewis is an outwardly ordinary guy, but in rea...</td>\n",
       "      <td>[Thriller]</td>\n",
       "    </tr>\n",
       "    <tr>\n",
       "      <th>19</th>\n",
       "      <td>All Cheerleaders Die</td>\n",
       "      <td>When tragedy rocks Blackfoot High, rebellious ...</td>\n",
       "      <td>[Horror, Thriller, Comedy]</td>\n",
       "    </tr>\n",
       "    <tr>\n",
       "      <th>5</th>\n",
       "      <td>Strangerland</td>\n",
       "      <td>Newly arrived to a remote desert town, Catheri...</td>\n",
       "      <td>[Drama, Thriller, Mystery]</td>\n",
       "    </tr>\n",
       "  </tbody>\n",
       "</table>\n",
       "</div>"
      ],
      "text/plain": [
       "                              original_title  \\\n",
       "3                               Home Alone 3   \n",
       "16  Paranormal Activity: The Ghost Dimension   \n",
       "7                                    10 x 10   \n",
       "19                      All Cheerleaders Die   \n",
       "5                               Strangerland   \n",
       "\n",
       "                                             overview  \\\n",
       "3   9-year-old Alex Pruitt is home alone with the ...   \n",
       "16  Using a special camera that can see spirits, a...   \n",
       "7   Lewis is an outwardly ordinary guy, but in rea...   \n",
       "19  When tragedy rocks Blackfoot High, rebellious ...   \n",
       "5   Newly arrived to a remote desert town, Catheri...   \n",
       "\n",
       "                         genre  \n",
       "3             [Comedy, Family]  \n",
       "16          [Horror, Thriller]  \n",
       "7                   [Thriller]  \n",
       "19  [Horror, Thriller, Comedy]  \n",
       "5   [Drama, Thriller, Mystery]  "
      ]
     },
     "execution_count": 74,
     "metadata": {},
     "output_type": "execute_result"
    }
   ],
   "source": [
    "df.sample(5)"
   ]
  },
  {
   "cell_type": "code",
   "execution_count": null,
   "id": "2e3965ed",
   "metadata": {},
   "outputs": [],
   "source": []
  }
 ],
 "metadata": {
  "kernelspec": {
   "display_name": "Python 3 (ipykernel)",
   "language": "python",
   "name": "python3"
  },
  "language_info": {
   "codemirror_mode": {
    "name": "ipython",
    "version": 3
   },
   "file_extension": ".py",
   "mimetype": "text/x-python",
   "name": "python",
   "nbconvert_exporter": "python",
   "pygments_lexer": "ipython3",
   "version": "3.9.7"
  }
 },
 "nbformat": 4,
 "nbformat_minor": 5
}
